{
 "cells": [
  {
   "cell_type": "code",
   "execution_count": 1,
   "metadata": {},
   "outputs": [
    {
     "name": "stderr",
     "output_type": "stream",
     "text": [
      "Using TensorFlow backend.\n"
     ]
    }
   ],
   "source": [
    "import keras\n",
    "from keras.datasets import mnist\n",
    "from keras.models import Sequential\n",
    "from keras.layers import Dense, Dropout\n",
    "from keras.optimizers import RMSprop\n",
    "import pickle\n",
    "import numpy as np\n",
    "import pandas as pd\n",
    "from sklearn.model_selection import train_test_split\n",
    "from datetime import datetime"
   ]
  },
  {
   "cell_type": "code",
   "execution_count": 2,
   "metadata": {},
   "outputs": [],
   "source": [
    "df = pd.read_csv('Beta-01-Matrix-20160101-20190430.csv')"
   ]
  },
  {
   "cell_type": "code",
   "execution_count": 3,
   "metadata": {},
   "outputs": [
    {
     "data": {
      "text/plain": [
       "789"
      ]
     },
     "execution_count": 3,
     "metadata": {},
     "output_type": "execute_result"
    }
   ],
   "source": [
    "# 获取所有交易日期\n",
    "trade_dates = list(df.keys())[2:791]\n",
    "len(trade_dates)"
   ]
  },
  {
   "cell_type": "code",
   "execution_count": 4,
   "metadata": {},
   "outputs": [
    {
     "data": {
      "text/plain": [
       "(789, 3)"
      ]
     },
     "execution_count": 4,
     "metadata": {},
     "output_type": "execute_result"
    }
   ],
   "source": [
    "# 生成 y_train\n",
    "betas = list(df.iloc[0]) ### ！重要 要训练别的股票请改这里 ####  我们要提取000001.SZ的所有日数据 所以用index 0\n",
    "betas = betas[2:791]\n",
    "y_train = []\n",
    "for beta in betas:\n",
    "    if (beta==-1):\n",
    "        y_train.append([1,0,0])\n",
    "    if (beta==0):\n",
    "        y_train.append([0,1,0])\n",
    "    if (beta==1):\n",
    "        y_train.append([0,0,1])\n",
    "y_train = np.array(y_train)\n",
    "y_train = y_train.astype('float32')\n",
    "del betas\n",
    "del df\n",
    "y_train.shape"
   ]
  },
  {
   "cell_type": "code",
   "execution_count": 5,
   "metadata": {},
   "outputs": [],
   "source": [
    "df = pd.read_csv('News_WallstreetCN_Seg_20160101_20190330.csv')"
   ]
  },
  {
   "cell_type": "code",
   "execution_count": 6,
   "metadata": {},
   "outputs": [],
   "source": [
    "# 单词过滤器\n",
    "def legal_word(word):\n",
    "    word_remove_list = ['【','[',']','】','&','联播','会见','快讯','中国','为','简讯']\n",
    "    prop_remove_list = ['b','c','d','e','f','g','h','k','l','m','nr','o','p','q','r','s','t','u','w','x','y','z']\n",
    "    prop_whitelist = ['n','ns','nt','nz','v','vd','vn']\n",
    "    if (word[0] in word_remove_list):\n",
    "        return False\n",
    "    if (any(char.isdigit() for char in word[0])):\n",
    "        return False\n",
    "    if (word[1] in prop_whitelist):\n",
    "        return True\n",
    "    else:\n",
    "        return False"
   ]
  },
  {
   "cell_type": "code",
   "execution_count": 7,
   "metadata": {},
   "outputs": [],
   "source": [
    "# 整合日期\n",
    "news = {}\n",
    "for index in range(len(df)):\n",
    "    yyyymmdd = datetime.fromtimestamp(df['display_time'][index]).date().strftime(\"%Y%m%d\")\n",
    "    if yyyymmdd in trade_dates:\n",
    "        words = []\n",
    "        exec('words=words+' + df['content_text_seg'][index])    \n",
    "        words = set(map(lambda x:x[0], filter(legal_word,words)))\n",
    "        if yyyymmdd in news:\n",
    "            news[yyyymmdd] = news[yyyymmdd] | words\n",
    "        else:\n",
    "            news[yyyymmdd] = words"
   ]
  },
  {
   "cell_type": "code",
   "execution_count": 8,
   "metadata": {},
   "outputs": [
    {
     "data": {
      "text/plain": [
       "789"
      ]
     },
     "execution_count": 8,
     "metadata": {},
     "output_type": "execute_result"
    }
   ],
   "source": [
    "len(news.keys()) #发现新闻中有效日期为789个 则修改之前y_train的长度为789"
   ]
  },
  {
   "cell_type": "code",
   "execution_count": 9,
   "metadata": {},
   "outputs": [],
   "source": [
    "# 统计所有不同单词 ！重要 要用于x_train\n",
    "allwords = set()\n",
    "for w in news.values(): \n",
    "    allwords = allwords|w"
   ]
  },
  {
   "cell_type": "code",
   "execution_count": 10,
   "metadata": {},
   "outputs": [
    {
     "data": {
      "text/plain": [
       "61501"
      ]
     },
     "execution_count": 10,
     "metadata": {},
     "output_type": "execute_result"
    }
   ],
   "source": [
    "len(allwords) #总共有61275个不同单词"
   ]
  },
  {
   "cell_type": "code",
   "execution_count": 11,
   "metadata": {},
   "outputs": [],
   "source": [
    "# 生成 x_train\n",
    "x_train = []\n",
    "for date in trade_dates:\n",
    "    x_train_single = [0] * len(allwords)\n",
    "    for index, w in enumerate(allwords):\n",
    "        if w in news[date]:\n",
    "            x_train_single[index] = 1\n",
    "    x_train.append(x_train_single)"
   ]
  },
  {
   "cell_type": "code",
   "execution_count": 12,
   "metadata": {},
   "outputs": [
    {
     "data": {
      "text/plain": [
       "(789, 61501)"
      ]
     },
     "execution_count": 12,
     "metadata": {},
     "output_type": "execute_result"
    }
   ],
   "source": [
    "x_train = np.array(x_train)\n",
    "x_train = x_train.astype('float32')\n",
    "x_train.shape"
   ]
  },
  {
   "cell_type": "code",
   "execution_count": 13,
   "metadata": {},
   "outputs": [],
   "source": [
    "X = x_train\n",
    "Y = y_train"
   ]
  },
  {
   "cell_type": "code",
   "execution_count": 14,
   "metadata": {},
   "outputs": [],
   "source": [
    "# 分割 训练集 验证集\n",
    "seed = 7\n",
    "np.random.seed(seed)\n",
    "x_train, x_test, y_train, y_test = train_test_split(X, Y, test_size=0.2, random_state=seed)"
   ]
  },
  {
   "cell_type": "code",
   "execution_count": 15,
   "metadata": {},
   "outputs": [
    {
     "data": {
      "text/plain": [
       "((631, 61501), (158, 61501), (631, 3), (158, 3))"
      ]
     },
     "execution_count": 15,
     "metadata": {},
     "output_type": "execute_result"
    }
   ],
   "source": [
    "# 最终Shape一览\n",
    "x_train.shape, x_test.shape, y_train.shape, y_test.shape"
   ]
  },
  {
   "cell_type": "code",
   "execution_count": null,
   "metadata": {
    "scrolled": true
   },
   "outputs": [],
   "source": [
    "# 神经网络 结构\n",
    "batch_size = 256\n",
    "epochs = 30\n",
    "model = Sequential()\n",
    "model.add(Dense(512, activation='relu', input_shape=(61275,)))\n",
    "model.add(Dropout(0.2))\n",
    "model.add(Dense(256, activation='relu'))\n",
    "model.add(Dropout(0.2))\n",
    "model.add(Dense(256, activation='relu'))\n",
    "model.add(Dropout(0.2))\n",
    "model.add(Dense(3, activation='softmax'))\n",
    "\n",
    "model.summary()\n",
    "\n",
    "model.compile(loss='categorical_crossentropy',\n",
    "              optimizer=RMSprop(),\n",
    "              metrics=['accuracy'])\n",
    "\n",
    "history = model.fit(x_train, y_train,\n",
    "                    batch_size=batch_size,\n",
    "                    epochs=epochs,\n",
    "                    verbose=2,\n",
    "                    validation_data=(x_test, y_test))"
   ]
  },
  {
   "cell_type": "code",
   "execution_count": null,
   "metadata": {},
   "outputs": [],
   "source": []
  }
 ],
 "metadata": {
  "kernelspec": {
   "display_name": "Python 3",
   "language": "python",
   "name": "python3"
  },
  "language_info": {
   "codemirror_mode": {
    "name": "ipython",
    "version": 3
   },
   "file_extension": ".py",
   "mimetype": "text/x-python",
   "name": "python",
   "nbconvert_exporter": "python",
   "pygments_lexer": "ipython3",
   "version": "3.7.3"
  }
 },
 "nbformat": 4,
 "nbformat_minor": 2
}
