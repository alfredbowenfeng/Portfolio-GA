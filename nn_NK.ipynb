{
 "cells": [
  {
   "cell_type": "code",
   "execution_count": 1,
   "metadata": {},
   "outputs": [
    {
     "name": "stderr",
     "output_type": "stream",
     "text": [
      "Using TensorFlow backend.\n"
     ]
    }
   ],
   "source": [
    "import keras\n",
    "from keras.datasets import mnist\n",
    "from keras.models import Sequential\n",
    "from keras.layers import Dense, Dropout\n",
    "from keras.optimizers import RMSprop\n",
    "import pickle\n",
    "import numpy as np\n",
    "import pandas as pd\n",
    "from sklearn.model_selection import train_test_split\n",
    "from datetime import datetime"
   ]
  },
  {
   "cell_type": "code",
   "execution_count": 2,
   "metadata": {},
   "outputs": [],
   "source": [
    "# 保证\n",
    "# 'Beta-01-Matrix-20160101-20190430.csv' \n",
    "# 'News_WallstreetCN_Seg_20160101_20190330.csv'\n",
    "# 在同目录下\n",
    "\n",
    "# 注意别看错文件名WallstreetCN的是20190330.csv结尾"
   ]
  },
  {
   "cell_type": "code",
   "execution_count": 3,
   "metadata": {},
   "outputs": [],
   "source": [
    "###############################################################\n",
    "#####\n",
    "##### 预处理 单只股票 日数据 针对 000001.SZ\n",
    "#####\n",
    "###############################################################"
   ]
  },
  {
   "cell_type": "code",
   "execution_count": 4,
   "metadata": {},
   "outputs": [],
   "source": [
    "df = pd.read_csv('Beta-01-Matrix-20160101-20190430.csv')"
   ]
  },
  {
   "cell_type": "code",
   "execution_count": 5,
   "metadata": {},
   "outputs": [
    {
     "data": {
      "text/plain": [
       "810"
      ]
     },
     "execution_count": 5,
     "metadata": {},
     "output_type": "execute_result"
    }
   ],
   "source": [
    "# 获取所有交易日期\n",
    "trade_dates = list(df.keys())[2:]\n",
    "len(trade_dates)"
   ]
  },
  {
   "cell_type": "code",
   "execution_count": 6,
   "metadata": {},
   "outputs": [
    {
     "data": {
      "text/plain": [
       "(810, 3)"
      ]
     },
     "execution_count": 6,
     "metadata": {},
     "output_type": "execute_result"
    }
   ],
   "source": [
    "# 生成 y_train\n",
    "betas = list(df.iloc[0]) ### ！重要 要训练别的股票请改这里 ####  我们要提取000001.SZ的所有日数据 所以用index 0\n",
    "betas = betas[2:]\n",
    "y_train = []\n",
    "for beta in betas:\n",
    "    if (beta==-1):\n",
    "        y_train.append([1,0,0])\n",
    "    if (beta==0):\n",
    "        y_train.append([0,1,0])\n",
    "    if (beta==1):\n",
    "        y_train.append([0,0,1])\n",
    "y_train = np.array(y_train)\n",
    "y_train = y_train.astype('float32')\n",
    "del betas\n",
    "del df\n",
    "y_train.shape"
   ]
  },
  {
   "cell_type": "code",
   "execution_count": 7,
   "metadata": {},
   "outputs": [],
   "source": [
    "###############################################################\n",
    "#####\n",
    "##### 预处理 新闻 \n",
    "#####\n",
    "##### 注意 若训练不同股票 无需重复运行这块代码 耗时\n",
    "##### 原因: 训练不同股票 x_train 永远一样，只是y_train和神经元权值不同\n",
    "#####\n",
    "###############################################################"
   ]
  },
  {
   "cell_type": "code",
   "execution_count": 8,
   "metadata": {},
   "outputs": [],
   "source": [
    "df = pd.read_csv('News-WallstreetCN-Seg-20160101-20190430.csv')"
   ]
  },
  {
   "cell_type": "code",
   "execution_count": 9,
   "metadata": {},
   "outputs": [],
   "source": [
    "# 单词过滤器\n",
    "def legal_word(word):\n",
    "    word_remove_list = ['【','[',']','】','&','联播','会见','快讯','中国','为','简讯']\n",
    "    prop_remove_list = ['b','c','d','e','f','g','h','k','l','m','nr','o','p','q','r','s','t','u','w','x','y','z']\n",
    "    prop_whitelist = ['n','ns','nt','nz','v','vd','vn']\n",
    "    if (word[0] in word_remove_list):\n",
    "        return False\n",
    "    if (any(char.isdigit() for char in word[0])):\n",
    "        return False\n",
    "    if (word[1] in prop_whitelist):\n",
    "        return True\n",
    "    else:\n",
    "        return False"
   ]
  },
  {
   "cell_type": "code",
   "execution_count": 10,
   "metadata": {},
   "outputs": [],
   "source": [
    "# 整合日期\n",
    "news = {}\n",
    "for index in range(len(df)):\n",
    "    yyyymmdd = datetime.fromtimestamp(df['display_time'][index]).date().strftime(\"%Y%m%d\")\n",
    "    if yyyymmdd in trade_dates:\n",
    "        words = []\n",
    "        exec('words=words+' + df['content_text_seg'][index])    \n",
    "        words = set(map(lambda x:x[0], filter(legal_word,words)))\n",
    "        if yyyymmdd in news:\n",
    "            news[yyyymmdd] = news[yyyymmdd] | words\n",
    "        else:\n",
    "            news[yyyymmdd] = words"
   ]
  },
  {
   "cell_type": "code",
   "execution_count": 11,
   "metadata": {},
   "outputs": [
    {
     "data": {
      "text/plain": [
       "810"
      ]
     },
     "execution_count": 11,
     "metadata": {},
     "output_type": "execute_result"
    }
   ],
   "source": [
    "len(news.keys()) #发现新闻中有效日期为789个 则修改之前y_train的长度为789"
   ]
  },
  {
   "cell_type": "code",
   "execution_count": 12,
   "metadata": {},
   "outputs": [],
   "source": [
    "# 统计所有不同单词 ！重要 要用于x_train\n",
    "allwords = set()\n",
    "for w in news.values(): \n",
    "    allwords = allwords|w"
   ]
  },
  {
   "cell_type": "code",
   "execution_count": 13,
   "metadata": {},
   "outputs": [
    {
     "data": {
      "text/plain": [
       "63136"
      ]
     },
     "execution_count": 13,
     "metadata": {},
     "output_type": "execute_result"
    }
   ],
   "source": [
    "len(allwords) #总共有61275个不同单词"
   ]
  },
  {
   "cell_type": "code",
   "execution_count": 14,
   "metadata": {},
   "outputs": [],
   "source": [
    "# 生成 x_train\n",
    "x_train = []\n",
    "for date in trade_dates:\n",
    "    x_train_single = [0] * len(allwords)\n",
    "    for index, w in enumerate(allwords):\n",
    "        if w in news[date]:\n",
    "            x_train_single[index] = 1\n",
    "    x_train.append(x_train_single)"
   ]
  },
  {
   "cell_type": "code",
   "execution_count": 15,
   "metadata": {},
   "outputs": [
    {
     "data": {
      "text/plain": [
       "(810, 63136)"
      ]
     },
     "execution_count": 15,
     "metadata": {},
     "output_type": "execute_result"
    }
   ],
   "source": [
    "x_train = np.array(x_train)\n",
    "x_train = x_train.astype('float32')\n",
    "x_train.shape"
   ]
  },
  {
   "cell_type": "code",
   "execution_count": 16,
   "metadata": {},
   "outputs": [],
   "source": [
    "###############################################################\n",
    "#####\n",
    "##### 训练\n",
    "#####\n",
    "##### 喜闻乐见的神经网络\n",
    "##### \n",
    "#####\n",
    "###############################################################"
   ]
  },
  {
   "cell_type": "code",
   "execution_count": 17,
   "metadata": {},
   "outputs": [],
   "source": [
    "X = x_train\n",
    "Y = y_train"
   ]
  },
  {
   "cell_type": "code",
   "execution_count": 56,
   "metadata": {},
   "outputs": [],
   "source": [
    "# 分割 训练集 验证集\n",
    "seed = 7\n",
    "np.random.seed(seed)\n",
    "# x_train, x_test, y_train, y_test = train_test_split(X, Y, test_size=0.551, random_state=seed)\n",
    "x_train, x_test, y_train, y_test = train_test_split(X, Y, test_size=0.3, random_state=seed)"
   ]
  },
  {
   "cell_type": "code",
   "execution_count": 57,
   "metadata": {},
   "outputs": [
    {
     "data": {
      "text/plain": [
       "((567, 63136), (243, 63136), (567, 3), (243, 3))"
      ]
     },
     "execution_count": 57,
     "metadata": {},
     "output_type": "execute_result"
    }
   ],
   "source": [
    "# 最终Shape一览\n",
    "x_train.shape, x_test.shape, y_train.shape, y_test.shape"
   ]
  },
  {
   "cell_type": "code",
   "execution_count": 58,
   "metadata": {
    "scrolled": false
   },
   "outputs": [
    {
     "name": "stdout",
     "output_type": "stream",
     "text": [
      "_________________________________________________________________\n",
      "Layer (type)                 Output Shape              Param #   \n",
      "=================================================================\n",
      "dense_57 (Dense)             (None, 512)               32326144  \n",
      "_________________________________________________________________\n",
      "dropout_43 (Dropout)         (None, 512)               0         \n",
      "_________________________________________________________________\n",
      "dense_58 (Dense)             (None, 256)               131328    \n",
      "_________________________________________________________________\n",
      "dropout_44 (Dropout)         (None, 256)               0         \n",
      "_________________________________________________________________\n",
      "dense_59 (Dense)             (None, 128)               32896     \n",
      "_________________________________________________________________\n",
      "dropout_45 (Dropout)         (None, 128)               0         \n",
      "_________________________________________________________________\n",
      "dense_60 (Dense)             (None, 3)                 387       \n",
      "=================================================================\n",
      "Total params: 32,490,755\n",
      "Trainable params: 32,490,755\n",
      "Non-trainable params: 0\n",
      "_________________________________________________________________\n",
      "Train on 567 samples, validate on 243 samples\n",
      "Epoch 1/30\n",
      " - 2s - loss: 3.9568 - acc: 0.5009 - val_loss: 11.8730 - val_acc: 0.2634\n",
      "Epoch 2/30\n",
      " - 0s - loss: 6.9888 - acc: 0.3774 - val_loss: 5.4329 - val_acc: 0.5967\n",
      "Epoch 3/30\n",
      " - 0s - loss: 3.6837 - acc: 0.4409 - val_loss: 1.8572 - val_acc: 0.5967\n",
      "Epoch 4/30\n",
      " - 0s - loss: 1.5030 - acc: 0.5538 - val_loss: 1.1931 - val_acc: 0.2634\n",
      "Epoch 5/30\n",
      " - 0s - loss: 0.9978 - acc: 0.5132 - val_loss: 0.9380 - val_acc: 0.5967\n",
      "Epoch 6/30\n",
      " - 0s - loss: 0.7906 - acc: 0.6296 - val_loss: 1.1692 - val_acc: 0.2634\n",
      "Epoch 7/30\n",
      " - 0s - loss: 0.8580 - acc: 0.5273 - val_loss: 1.1360 - val_acc: 0.5967\n",
      "Epoch 8/30\n",
      " - 0s - loss: 0.7221 - acc: 0.6402 - val_loss: 1.5994 - val_acc: 0.2634\n",
      "Epoch 9/30\n",
      " - 0s - loss: 0.9186 - acc: 0.5820 - val_loss: 1.0615 - val_acc: 0.2510\n",
      "Epoch 10/30\n",
      " - 0s - loss: 0.5212 - acc: 0.7760 - val_loss: 1.5090 - val_acc: 0.5967\n",
      "Epoch 11/30\n",
      " - 0s - loss: 0.7060 - acc: 0.7178 - val_loss: 1.1242 - val_acc: 0.5967\n",
      "Epoch 12/30\n",
      " - 0s - loss: 0.4113 - acc: 0.8254 - val_loss: 1.0833 - val_acc: 0.3827\n",
      "Epoch 13/30\n",
      " - 0s - loss: 0.2713 - acc: 0.9383 - val_loss: 1.3632 - val_acc: 0.5967\n",
      "Epoch 14/30\n",
      " - 0s - loss: 0.6160 - acc: 0.7478 - val_loss: 2.1083 - val_acc: 0.1399\n",
      "Epoch 15/30\n",
      " - 0s - loss: 0.9525 - acc: 0.6014 - val_loss: 1.3943 - val_acc: 0.5967\n",
      "Epoch 16/30\n",
      " - 0s - loss: 0.3282 - acc: 0.8642 - val_loss: 1.0363 - val_acc: 0.5967\n",
      "Epoch 17/30\n",
      " - 0s - loss: 0.0681 - acc: 0.9965 - val_loss: 1.0155 - val_acc: 0.5761\n",
      "Epoch 18/30\n",
      " - 0s - loss: 0.0357 - acc: 1.0000 - val_loss: 1.3292 - val_acc: 0.6008\n",
      "Epoch 19/30\n",
      " - 0s - loss: 0.0186 - acc: 0.9982 - val_loss: 1.2441 - val_acc: 0.5309\n",
      "Epoch 20/30\n",
      " - 0s - loss: 0.0158 - acc: 1.0000 - val_loss: 1.6762 - val_acc: 0.5967\n",
      "Epoch 21/30\n",
      " - 0s - loss: 0.0092 - acc: 1.0000 - val_loss: 1.3604 - val_acc: 0.5597\n",
      "Epoch 22/30\n",
      " - 0s - loss: 0.0085 - acc: 1.0000 - val_loss: 1.7962 - val_acc: 0.5926\n",
      "Epoch 23/30\n",
      " - 0s - loss: 0.0037 - acc: 1.0000 - val_loss: 1.8848 - val_acc: 0.5967\n",
      "Epoch 24/30\n",
      " - 0s - loss: 0.0034 - acc: 1.0000 - val_loss: 1.5687 - val_acc: 0.5432\n",
      "Epoch 25/30\n",
      " - 0s - loss: 0.0030 - acc: 1.0000 - val_loss: 1.6015 - val_acc: 0.5103\n",
      "Epoch 26/30\n",
      " - 0s - loss: 0.0035 - acc: 1.0000 - val_loss: 2.1155 - val_acc: 0.6008\n",
      "Epoch 27/30\n",
      " - 0s - loss: 8.5687e-04 - acc: 1.0000 - val_loss: 2.2479 - val_acc: 0.5967\n",
      "Epoch 28/30\n",
      " - 0s - loss: 8.9754e-04 - acc: 1.0000 - val_loss: 2.1829 - val_acc: 0.5967\n",
      "Epoch 29/30\n",
      " - 0s - loss: 0.0011 - acc: 1.0000 - val_loss: 2.6191 - val_acc: 0.5967\n",
      "Epoch 30/30\n",
      " - 0s - loss: 6.0474e-04 - acc: 1.0000 - val_loss: 2.3703 - val_acc: 0.5967\n"
     ]
    }
   ],
   "source": [
    "# 神经网络 结构\n",
    "batch_size = 256\n",
    "epochs = 30\n",
    "model = Sequential()\n",
    "model.add(Dense(512, activation='relu', input_shape=(63136,)))\n",
    "model.add(Dropout(0.2))\n",
    "model.add(Dense(256, activation='relu'))\n",
    "model.add(Dropout(0.2))\n",
    "model.add(Dense(128, activation='relu'))\n",
    "model.add(Dropout(0.2))\n",
    "model.add(Dense(3, activation='softmax'))\n",
    "\n",
    "model.summary()\n",
    "\n",
    "model.compile(loss='categorical_crossentropy',\n",
    "              optimizer=RMSprop(),\n",
    "              metrics=['accuracy'])\n",
    "\n",
    "history = model.fit(x_train, y_train,\n",
    "                    batch_size=batch_size,\n",
    "                    epochs=epochs,\n",
    "                    verbose=2,\n",
    "                    validation_data=(x_test, y_test))"
   ]
  },
  {
   "cell_type": "code",
   "execution_count": null,
   "metadata": {},
   "outputs": [],
   "source": []
  },
  {
   "cell_type": "code",
   "execution_count": null,
   "metadata": {},
   "outputs": [],
   "source": []
  }
 ],
 "metadata": {
  "kernelspec": {
   "display_name": "Python 3",
   "language": "python",
   "name": "python3"
  },
  "language_info": {
   "codemirror_mode": {
    "name": "ipython",
    "version": 3
   },
   "file_extension": ".py",
   "mimetype": "text/x-python",
   "name": "python",
   "nbconvert_exporter": "python",
   "pygments_lexer": "ipython3",
   "version": "3.7.3"
  }
 },
 "nbformat": 4,
 "nbformat_minor": 2
}
